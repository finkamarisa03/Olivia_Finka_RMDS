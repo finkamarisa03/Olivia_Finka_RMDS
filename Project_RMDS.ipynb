{
  "nbformat": 4,
  "nbformat_minor": 5,
  "metadata": {
    "kernelspec": {
      "display_name": "Python 3",
      "language": "python",
      "name": "python3"
    },
    "language_info": {
      "codemirror_mode": {
        "name": "ipython",
        "version": 3
      },
      "file_extension": ".py",
      "mimetype": "text/x-python",
      "name": "python",
      "nbconvert_exporter": "python",
      "pygments_lexer": "ipython3",
      "version": "3.8.8"
    },
    "colab": {
      "name": "Project_RMDS.ipynb",
      "provenance": []
    }
  },
  "cells": [
    {
      "cell_type": "markdown",
      "metadata": {
        "id": "508f9f10"
      },
      "source": [
        "# RMDS Restaurant Dashboard Project\n",
        "## Strong Woman Team (Finka Marisa Geananda Sufie and Olivia Destri Riana)"
      ],
      "id": "508f9f10"
    },
    {
      "cell_type": "code",
      "metadata": {
        "id": "e6f6ec24"
      },
      "source": [
        "# Necessary imports for general purpose\n",
        "import pandas as pd\n",
        "import numpy as np"
      ],
      "id": "e6f6ec24",
      "execution_count": null,
      "outputs": []
    },
    {
      "cell_type": "code",
      "metadata": {
        "id": "0e952c09"
      },
      "source": [
        "# Pandas function that reads an excel sheet as a dataframe\n",
        "detail_df = pd.read_excel('competition_data/Q3_competition_detail_dataset.xlsx')"
      ],
      "id": "0e952c09",
      "execution_count": null,
      "outputs": []
    },
    {
      "cell_type": "code",
      "metadata": {
        "scrolled": true,
        "id": "eec706d2",
        "outputId": "c3cdb043-62c0-4eab-bafc-813fd0714022"
      },
      "source": [
        "# pandas option to display all the columns of a dataframe for the first 5 rows\n",
        "pd.set_option('display.max_columns', None)\n",
        "detail_df.head()"
      ],
      "id": "eec706d2",
      "execution_count": null,
      "outputs": [
        {
          "data": {
            "text/html": [
              "<div>\n",
              "<style scoped>\n",
              "    .dataframe tbody tr th:only-of-type {\n",
              "        vertical-align: middle;\n",
              "    }\n",
              "\n",
              "    .dataframe tbody tr th {\n",
              "        vertical-align: top;\n",
              "    }\n",
              "\n",
              "    .dataframe thead th {\n",
              "        text-align: right;\n",
              "    }\n",
              "</style>\n",
              "<table border=\"1\" class=\"dataframe\">\n",
              "  <thead>\n",
              "    <tr style=\"text-align: right;\">\n",
              "      <th></th>\n",
              "      <th>id</th>\n",
              "      <th>name</th>\n",
              "      <th>is_claimed</th>\n",
              "      <th>is_closed</th>\n",
              "      <th>phone</th>\n",
              "      <th>review_count</th>\n",
              "      <th>categories01</th>\n",
              "      <th>categories02</th>\n",
              "      <th>categories03</th>\n",
              "      <th>rating</th>\n",
              "      <th>price</th>\n",
              "      <th>transactions</th>\n",
              "      <th>zip_code</th>\n",
              "      <th>city</th>\n",
              "      <th>address</th>\n",
              "      <th>restaurant_url</th>\n",
              "      <th>image_url</th>\n",
              "      <th>latitude</th>\n",
              "      <th>longitude</th>\n",
              "      <th>photos</th>\n",
              "      <th>cross_streets</th>\n",
              "    </tr>\n",
              "  </thead>\n",
              "  <tbody>\n",
              "    <tr>\n",
              "      <th>0</th>\n",
              "      <td>nzgC5hhlnSq2DYbJbtH5MQ</td>\n",
              "      <td>Foxy's Landing &amp; Restaurant</td>\n",
              "      <td>True</td>\n",
              "      <td>False</td>\n",
              "      <td>1.661949e+10</td>\n",
              "      <td>52</td>\n",
              "      <td>breakfast_brunch</td>\n",
              "      <td>tradamerican</td>\n",
              "      <td>NaN</td>\n",
              "      <td>4.0</td>\n",
              "      <td>$$</td>\n",
              "      <td>[]</td>\n",
              "      <td>93536.0</td>\n",
              "      <td>Lancaster</td>\n",
              "      <td>['4555 W Avenue G', 'Lancaster, CA 93536']</td>\n",
              "      <td>https://www.yelp.com/biz/foxys-landing-and-res...</td>\n",
              "      <td>https://s3-media1.fl.yelpcdn.com/bphoto/LooWtz...</td>\n",
              "      <td>34.738829</td>\n",
              "      <td>-118.216215</td>\n",
              "      <td>['https://s3-media1.fl.yelpcdn.com/bphoto/LooW...</td>\n",
              "      <td>NaN</td>\n",
              "    </tr>\n",
              "    <tr>\n",
              "      <th>1</th>\n",
              "      <td>i-2aG9_PQBEy7LrsRv0Ivg</td>\n",
              "      <td>Mosman's Steakhouse</td>\n",
              "      <td>True</td>\n",
              "      <td>False</td>\n",
              "      <td>1.661949e+10</td>\n",
              "      <td>63</td>\n",
              "      <td>bars</td>\n",
              "      <td>steak</td>\n",
              "      <td>NaN</td>\n",
              "      <td>3.5</td>\n",
              "      <td>$$</td>\n",
              "      <td>[]</td>\n",
              "      <td>93536.0</td>\n",
              "      <td>Lancaster</td>\n",
              "      <td>['46645 W 60th W', 'Lancaster, CA 93536']</td>\n",
              "      <td>https://www.yelp.com/biz/mosmans-steakhouse-la...</td>\n",
              "      <td>https://s3-media3.fl.yelpcdn.com/bphoto/JJ3mkC...</td>\n",
              "      <td>34.730580</td>\n",
              "      <td>-118.238360</td>\n",
              "      <td>['https://s3-media3.fl.yelpcdn.com/bphoto/JJ3m...</td>\n",
              "      <td>NaN</td>\n",
              "    </tr>\n",
              "    <tr>\n",
              "      <th>2</th>\n",
              "      <td>DJoeogRsOW5s9MzgveHQ2A</td>\n",
              "      <td>El Tamarindo</td>\n",
              "      <td>True</td>\n",
              "      <td>False</td>\n",
              "      <td>1.661723e+10</td>\n",
              "      <td>11</td>\n",
              "      <td>salvadoran</td>\n",
              "      <td>NaN</td>\n",
              "      <td>NaN</td>\n",
              "      <td>3.5</td>\n",
              "      <td>$</td>\n",
              "      <td>[]</td>\n",
              "      <td>93534.0</td>\n",
              "      <td>Lancaster</td>\n",
              "      <td>['551 W Ave I', 'Ste E', 'Lancaster, CA 93534']</td>\n",
              "      <td>https://www.yelp.com/biz/el-tamarindo-lancaste...</td>\n",
              "      <td>https://s3-media1.fl.yelpcdn.com/bphoto/UMSkfH...</td>\n",
              "      <td>34.707469</td>\n",
              "      <td>-118.146286</td>\n",
              "      <td>['https://s3-media1.fl.yelpcdn.com/bphoto/UMSk...</td>\n",
              "      <td>NaN</td>\n",
              "    </tr>\n",
              "    <tr>\n",
              "      <th>3</th>\n",
              "      <td>hwWfv3sSxV3a47UAdSVT5w</td>\n",
              "      <td>Subway</td>\n",
              "      <td>True</td>\n",
              "      <td>False</td>\n",
              "      <td>1.661730e+10</td>\n",
              "      <td>13</td>\n",
              "      <td>sandwiches</td>\n",
              "      <td>NaN</td>\n",
              "      <td>NaN</td>\n",
              "      <td>2.5</td>\n",
              "      <td>$</td>\n",
              "      <td>['delivery', 'pickup']</td>\n",
              "      <td>93535.0</td>\n",
              "      <td>Lancaster</td>\n",
              "      <td>['1821 W Ave I', 'Unit 103', 'Lancaster, CA 93...</td>\n",
              "      <td>https://www.yelp.com/biz/subway-lancaster-106?...</td>\n",
              "      <td>https://s3-media3.fl.yelpcdn.com/bphoto/4Yo7Ea...</td>\n",
              "      <td>34.705218</td>\n",
              "      <td>-118.164180</td>\n",
              "      <td>['https://s3-media3.fl.yelpcdn.com/bphoto/4Yo7...</td>\n",
              "      <td>NaN</td>\n",
              "    </tr>\n",
              "    <tr>\n",
              "      <th>4</th>\n",
              "      <td>TxU0fwF2N2nVhCpzokc1Pg</td>\n",
              "      <td>Little Caesars</td>\n",
              "      <td>True</td>\n",
              "      <td>False</td>\n",
              "      <td>1.661946e+10</td>\n",
              "      <td>54</td>\n",
              "      <td>pizza</td>\n",
              "      <td>NaN</td>\n",
              "      <td>NaN</td>\n",
              "      <td>1.5</td>\n",
              "      <td>$</td>\n",
              "      <td>[]</td>\n",
              "      <td>93534.0</td>\n",
              "      <td>Lancaster</td>\n",
              "      <td>['1841 W Ave I', 'Bldg 2, Ste D', 'Lancaster, ...</td>\n",
              "      <td>https://www.yelp.com/biz/little-caesars-lancas...</td>\n",
              "      <td>https://s3-media2.fl.yelpcdn.com/bphoto/-Fz1W5...</td>\n",
              "      <td>34.705100</td>\n",
              "      <td>-118.164870</td>\n",
              "      <td>['https://s3-media2.fl.yelpcdn.com/bphoto/-Fz1...</td>\n",
              "      <td>NaN</td>\n",
              "    </tr>\n",
              "  </tbody>\n",
              "</table>\n",
              "</div>"
            ],
            "text/plain": [
              "                       id                         name  is_claimed  is_closed  \\\n",
              "0  nzgC5hhlnSq2DYbJbtH5MQ  Foxy's Landing & Restaurant        True      False   \n",
              "1  i-2aG9_PQBEy7LrsRv0Ivg          Mosman's Steakhouse        True      False   \n",
              "2  DJoeogRsOW5s9MzgveHQ2A                 El Tamarindo        True      False   \n",
              "3  hwWfv3sSxV3a47UAdSVT5w                       Subway        True      False   \n",
              "4  TxU0fwF2N2nVhCpzokc1Pg               Little Caesars        True      False   \n",
              "\n",
              "          phone  review_count      categories01  categories02 categories03  \\\n",
              "0  1.661949e+10            52  breakfast_brunch  tradamerican          NaN   \n",
              "1  1.661949e+10            63              bars         steak          NaN   \n",
              "2  1.661723e+10            11        salvadoran           NaN          NaN   \n",
              "3  1.661730e+10            13        sandwiches           NaN          NaN   \n",
              "4  1.661946e+10            54             pizza           NaN          NaN   \n",
              "\n",
              "   rating price            transactions  zip_code       city  \\\n",
              "0     4.0    $$                      []   93536.0  Lancaster   \n",
              "1     3.5    $$                      []   93536.0  Lancaster   \n",
              "2     3.5     $                      []   93534.0  Lancaster   \n",
              "3     2.5     $  ['delivery', 'pickup']   93535.0  Lancaster   \n",
              "4     1.5     $                      []   93534.0  Lancaster   \n",
              "\n",
              "                                             address  \\\n",
              "0         ['4555 W Avenue G', 'Lancaster, CA 93536']   \n",
              "1          ['46645 W 60th W', 'Lancaster, CA 93536']   \n",
              "2    ['551 W Ave I', 'Ste E', 'Lancaster, CA 93534']   \n",
              "3  ['1821 W Ave I', 'Unit 103', 'Lancaster, CA 93...   \n",
              "4  ['1841 W Ave I', 'Bldg 2, Ste D', 'Lancaster, ...   \n",
              "\n",
              "                                      restaurant_url  \\\n",
              "0  https://www.yelp.com/biz/foxys-landing-and-res...   \n",
              "1  https://www.yelp.com/biz/mosmans-steakhouse-la...   \n",
              "2  https://www.yelp.com/biz/el-tamarindo-lancaste...   \n",
              "3  https://www.yelp.com/biz/subway-lancaster-106?...   \n",
              "4  https://www.yelp.com/biz/little-caesars-lancas...   \n",
              "\n",
              "                                           image_url   latitude   longitude  \\\n",
              "0  https://s3-media1.fl.yelpcdn.com/bphoto/LooWtz...  34.738829 -118.216215   \n",
              "1  https://s3-media3.fl.yelpcdn.com/bphoto/JJ3mkC...  34.730580 -118.238360   \n",
              "2  https://s3-media1.fl.yelpcdn.com/bphoto/UMSkfH...  34.707469 -118.146286   \n",
              "3  https://s3-media3.fl.yelpcdn.com/bphoto/4Yo7Ea...  34.705218 -118.164180   \n",
              "4  https://s3-media2.fl.yelpcdn.com/bphoto/-Fz1W5...  34.705100 -118.164870   \n",
              "\n",
              "                                              photos  cross_streets  \n",
              "0  ['https://s3-media1.fl.yelpcdn.com/bphoto/LooW...            NaN  \n",
              "1  ['https://s3-media3.fl.yelpcdn.com/bphoto/JJ3m...            NaN  \n",
              "2  ['https://s3-media1.fl.yelpcdn.com/bphoto/UMSk...            NaN  \n",
              "3  ['https://s3-media3.fl.yelpcdn.com/bphoto/4Yo7...            NaN  \n",
              "4  ['https://s3-media2.fl.yelpcdn.com/bphoto/-Fz1...            NaN  "
            ]
          },
          "execution_count": 3,
          "metadata": {},
          "output_type": "execute_result"
        }
      ]
    },
    {
      "cell_type": "code",
      "metadata": {
        "id": "ee07da78",
        "outputId": "ac1982b1-c868-4c79-d02a-02c1f91618e3"
      },
      "source": [
        "# dataframe info method that displays some useful information for data cleaning (null counts and dtypes)\n",
        "detail_df.info()"
      ],
      "id": "ee07da78",
      "execution_count": null,
      "outputs": [
        {
          "name": "stdout",
          "output_type": "stream",
          "text": [
            "<class 'pandas.core.frame.DataFrame'>\n",
            "RangeIndex: 10710 entries, 0 to 10709\n",
            "Data columns (total 21 columns):\n",
            " #   Column          Non-Null Count  Dtype  \n",
            "---  ------          --------------  -----  \n",
            " 0   id              10710 non-null  object \n",
            " 1   name            10710 non-null  object \n",
            " 2   is_claimed      10710 non-null  bool   \n",
            " 3   is_closed       10710 non-null  bool   \n",
            " 4   phone           9993 non-null   float64\n",
            " 5   review_count    10710 non-null  int64  \n",
            " 6   categories01    10710 non-null  object \n",
            " 7   categories02    7434 non-null   object \n",
            " 8   categories03    4034 non-null   object \n",
            " 9   rating          10710 non-null  float64\n",
            " 10  price           8374 non-null   object \n",
            " 11  transactions    10710 non-null  object \n",
            " 12  zip_code        10703 non-null  float64\n",
            " 13  city            10710 non-null  object \n",
            " 14  address         10710 non-null  object \n",
            " 15  restaurant_url  10710 non-null  object \n",
            " 16  image_url       10350 non-null  object \n",
            " 17  latitude        10710 non-null  float64\n",
            " 18  longitude       10710 non-null  float64\n",
            " 19  photos          10710 non-null  object \n",
            " 20  cross_streets   0 non-null      float64\n",
            "dtypes: bool(2), float64(6), int64(1), object(12)\n",
            "memory usage: 1.6+ MB\n"
          ]
        }
      ]
    },
    {
      "cell_type": "code",
      "metadata": {
        "id": "81b4d1ce"
      },
      "source": [
        "# dataframe drop method to remove the cross_streets column from our dataframe\n",
        "detail_df = detail_df.drop('cross_streets', axis=1)"
      ],
      "id": "81b4d1ce",
      "execution_count": null,
      "outputs": []
    },
    {
      "cell_type": "code",
      "metadata": {
        "id": "cfb4929d",
        "outputId": "66f8e411-fd20-422e-e713-03f5714d59a5"
      },
      "source": [
        "# Check for duplicates in each column\n",
        "for col in detail_df.columns:\n",
        "    boolean = not detail_df[col].is_unique\n",
        "    print(col + ':')\n",
        "    print(boolean)\n",
        "    print()\n",
        "\n",
        "# TODO: MAYBE pick out specific columns to check dupes for cuz this list is kinda long."
      ],
      "id": "cfb4929d",
      "execution_count": null,
      "outputs": [
        {
          "name": "stdout",
          "output_type": "stream",
          "text": [
            "id:\n",
            "False\n",
            "\n",
            "name:\n",
            "True\n",
            "\n",
            "is_claimed:\n",
            "True\n",
            "\n",
            "is_closed:\n",
            "True\n",
            "\n",
            "phone:\n",
            "True\n",
            "\n",
            "review_count:\n",
            "True\n",
            "\n",
            "categories01:\n",
            "True\n",
            "\n",
            "categories02:\n",
            "True\n",
            "\n",
            "categories03:\n",
            "True\n",
            "\n",
            "rating:\n",
            "True\n",
            "\n",
            "price:\n",
            "True\n",
            "\n",
            "transactions:\n",
            "True\n",
            "\n",
            "zip_code:\n",
            "True\n",
            "\n",
            "city:\n",
            "True\n",
            "\n",
            "address:\n",
            "True\n",
            "\n",
            "restaurant_url:\n",
            "False\n",
            "\n",
            "image_url:\n",
            "True\n",
            "\n",
            "latitude:\n",
            "True\n",
            "\n",
            "longitude:\n",
            "True\n",
            "\n",
            "photos:\n",
            "True\n",
            "\n"
          ]
        }
      ]
    },
    {
      "cell_type": "code",
      "metadata": {
        "id": "a7388e80",
        "outputId": "afd747d1-3730-4944-cb7b-10a234f39b00"
      },
      "source": [
        "# this simple query shows that Subway has at least 2 different entries in this dataframe\n",
        "detail_df[detail_df['name'] == 'Subway'].head(2)"
      ],
      "id": "a7388e80",
      "execution_count": null,
      "outputs": [
        {
          "data": {
            "text/html": [
              "<div>\n",
              "<style scoped>\n",
              "    .dataframe tbody tr th:only-of-type {\n",
              "        vertical-align: middle;\n",
              "    }\n",
              "\n",
              "    .dataframe tbody tr th {\n",
              "        vertical-align: top;\n",
              "    }\n",
              "\n",
              "    .dataframe thead th {\n",
              "        text-align: right;\n",
              "    }\n",
              "</style>\n",
              "<table border=\"1\" class=\"dataframe\">\n",
              "  <thead>\n",
              "    <tr style=\"text-align: right;\">\n",
              "      <th></th>\n",
              "      <th>id</th>\n",
              "      <th>name</th>\n",
              "      <th>is_claimed</th>\n",
              "      <th>is_closed</th>\n",
              "      <th>phone</th>\n",
              "      <th>review_count</th>\n",
              "      <th>categories01</th>\n",
              "      <th>categories02</th>\n",
              "      <th>categories03</th>\n",
              "      <th>rating</th>\n",
              "      <th>price</th>\n",
              "      <th>transactions</th>\n",
              "      <th>zip_code</th>\n",
              "      <th>city</th>\n",
              "      <th>address</th>\n",
              "      <th>restaurant_url</th>\n",
              "      <th>image_url</th>\n",
              "      <th>latitude</th>\n",
              "      <th>longitude</th>\n",
              "      <th>photos</th>\n",
              "    </tr>\n",
              "  </thead>\n",
              "  <tbody>\n",
              "    <tr>\n",
              "      <th>3</th>\n",
              "      <td>hwWfv3sSxV3a47UAdSVT5w</td>\n",
              "      <td>Subway</td>\n",
              "      <td>True</td>\n",
              "      <td>False</td>\n",
              "      <td>1.661730e+10</td>\n",
              "      <td>13</td>\n",
              "      <td>sandwiches</td>\n",
              "      <td>NaN</td>\n",
              "      <td>NaN</td>\n",
              "      <td>2.5</td>\n",
              "      <td>$</td>\n",
              "      <td>['delivery', 'pickup']</td>\n",
              "      <td>93535.0</td>\n",
              "      <td>Lancaster</td>\n",
              "      <td>['1821 W Ave I', 'Unit 103', 'Lancaster, CA 93...</td>\n",
              "      <td>https://www.yelp.com/biz/subway-lancaster-106?...</td>\n",
              "      <td>https://s3-media3.fl.yelpcdn.com/bphoto/4Yo7Ea...</td>\n",
              "      <td>34.705218</td>\n",
              "      <td>-118.164180</td>\n",
              "      <td>['https://s3-media3.fl.yelpcdn.com/bphoto/4Yo7...</td>\n",
              "    </tr>\n",
              "    <tr>\n",
              "      <th>86</th>\n",
              "      <td>ylRylAWeE6KlF6skM-Pmzw</td>\n",
              "      <td>Subway</td>\n",
              "      <td>True</td>\n",
              "      <td>False</td>\n",
              "      <td>1.661940e+10</td>\n",
              "      <td>10</td>\n",
              "      <td>sandwiches</td>\n",
              "      <td>NaN</td>\n",
              "      <td>NaN</td>\n",
              "      <td>3.0</td>\n",
              "      <td>$</td>\n",
              "      <td>['delivery', 'pickup']</td>\n",
              "      <td>93536.0</td>\n",
              "      <td>Lancaster</td>\n",
              "      <td>['2015 W Ave J', 'Space B-16 Ste 2015', 'Lanca...</td>\n",
              "      <td>https://www.yelp.com/biz/subway-lancaster-76?a...</td>\n",
              "      <td>https://s3-media4.fl.yelpcdn.com/bphoto/3G13sI...</td>\n",
              "      <td>34.690192</td>\n",
              "      <td>-118.166509</td>\n",
              "      <td>['https://s3-media4.fl.yelpcdn.com/bphoto/3G13...</td>\n",
              "    </tr>\n",
              "  </tbody>\n",
              "</table>\n",
              "</div>"
            ],
            "text/plain": [
              "                        id    name  is_claimed  is_closed         phone  \\\n",
              "3   hwWfv3sSxV3a47UAdSVT5w  Subway        True      False  1.661730e+10   \n",
              "86  ylRylAWeE6KlF6skM-Pmzw  Subway        True      False  1.661940e+10   \n",
              "\n",
              "    review_count categories01 categories02 categories03  rating price  \\\n",
              "3             13   sandwiches          NaN          NaN     2.5     $   \n",
              "86            10   sandwiches          NaN          NaN     3.0     $   \n",
              "\n",
              "              transactions  zip_code       city  \\\n",
              "3   ['delivery', 'pickup']   93535.0  Lancaster   \n",
              "86  ['delivery', 'pickup']   93536.0  Lancaster   \n",
              "\n",
              "                                              address  \\\n",
              "3   ['1821 W Ave I', 'Unit 103', 'Lancaster, CA 93...   \n",
              "86  ['2015 W Ave J', 'Space B-16 Ste 2015', 'Lanca...   \n",
              "\n",
              "                                       restaurant_url  \\\n",
              "3   https://www.yelp.com/biz/subway-lancaster-106?...   \n",
              "86  https://www.yelp.com/biz/subway-lancaster-76?a...   \n",
              "\n",
              "                                            image_url   latitude   longitude  \\\n",
              "3   https://s3-media3.fl.yelpcdn.com/bphoto/4Yo7Ea...  34.705218 -118.164180   \n",
              "86  https://s3-media4.fl.yelpcdn.com/bphoto/3G13sI...  34.690192 -118.166509   \n",
              "\n",
              "                                               photos  \n",
              "3   ['https://s3-media3.fl.yelpcdn.com/bphoto/4Yo7...  \n",
              "86  ['https://s3-media4.fl.yelpcdn.com/bphoto/3G13...  "
            ]
          },
          "execution_count": 7,
          "metadata": {},
          "output_type": "execute_result"
        }
      ]
    },
    {
      "cell_type": "code",
      "metadata": {
        "id": "97a24c70",
        "outputId": "2d8c341d-99de-41cc-e0df-ee929abd6bac"
      },
      "source": [
        "# Pandas function to query rows with duplicates in the address column\n",
        "pd.concat(g for _, g in detail_df.groupby(\"address\") if len(g) > 1).head()"
      ],
      "id": "97a24c70",
      "execution_count": null,
      "outputs": [
        {
          "data": {
            "text/html": [
              "<div>\n",
              "<style scoped>\n",
              "    .dataframe tbody tr th:only-of-type {\n",
              "        vertical-align: middle;\n",
              "    }\n",
              "\n",
              "    .dataframe tbody tr th {\n",
              "        vertical-align: top;\n",
              "    }\n",
              "\n",
              "    .dataframe thead th {\n",
              "        text-align: right;\n",
              "    }\n",
              "</style>\n",
              "<table border=\"1\" class=\"dataframe\">\n",
              "  <thead>\n",
              "    <tr style=\"text-align: right;\">\n",
              "      <th></th>\n",
              "      <th>id</th>\n",
              "      <th>name</th>\n",
              "      <th>is_claimed</th>\n",
              "      <th>is_closed</th>\n",
              "      <th>phone</th>\n",
              "      <th>review_count</th>\n",
              "      <th>categories01</th>\n",
              "      <th>categories02</th>\n",
              "      <th>categories03</th>\n",
              "      <th>rating</th>\n",
              "      <th>price</th>\n",
              "      <th>transactions</th>\n",
              "      <th>zip_code</th>\n",
              "      <th>city</th>\n",
              "      <th>address</th>\n",
              "      <th>restaurant_url</th>\n",
              "      <th>image_url</th>\n",
              "      <th>latitude</th>\n",
              "      <th>longitude</th>\n",
              "      <th>photos</th>\n",
              "    </tr>\n",
              "  </thead>\n",
              "  <tbody>\n",
              "    <tr>\n",
              "      <th>8811</th>\n",
              "      <td>O9w_-6yJaOzXqCJf7yt4mA</td>\n",
              "      <td>Rock &amp; Brews - LAX Southwest Terminal 1</td>\n",
              "      <td>True</td>\n",
              "      <td>False</td>\n",
              "      <td>1.424702e+10</td>\n",
              "      <td>771</td>\n",
              "      <td>burgers</td>\n",
              "      <td>newamerican</td>\n",
              "      <td>beerbar</td>\n",
              "      <td>3.0</td>\n",
              "      <td>$$</td>\n",
              "      <td>[]</td>\n",
              "      <td>90045.0</td>\n",
              "      <td>Los Angeles</td>\n",
              "      <td>['1 World Way', 'Los Angeles, CA 90045']</td>\n",
              "      <td>https://www.yelp.com/biz/rock-and-brews-lax-so...</td>\n",
              "      <td>https://s3-media2.fl.yelpcdn.com/bphoto/rjxYAA...</td>\n",
              "      <td>33.946526</td>\n",
              "      <td>-118.401190</td>\n",
              "      <td>['https://s3-media2.fl.yelpcdn.com/bphoto/rjxY...</td>\n",
              "    </tr>\n",
              "    <tr>\n",
              "      <th>8825</th>\n",
              "      <td>MdOKg7Nkw4Tusys0cnSfhQ</td>\n",
              "      <td>Panda Express</td>\n",
              "      <td>False</td>\n",
              "      <td>False</td>\n",
              "      <td>1.424751e+10</td>\n",
              "      <td>3</td>\n",
              "      <td>chinese</td>\n",
              "      <td>hotdogs</td>\n",
              "      <td>NaN</td>\n",
              "      <td>3.5</td>\n",
              "      <td>NaN</td>\n",
              "      <td>[]</td>\n",
              "      <td>90045.0</td>\n",
              "      <td>Los Angeles</td>\n",
              "      <td>['1 World Way', 'Los Angeles, CA 90045']</td>\n",
              "      <td>https://www.yelp.com/biz/panda-express-los-ang...</td>\n",
              "      <td>https://s3-media3.fl.yelpcdn.com/bphoto/YGlSvs...</td>\n",
              "      <td>33.946363</td>\n",
              "      <td>-118.401084</td>\n",
              "      <td>['https://s3-media3.fl.yelpcdn.com/bphoto/YGlS...</td>\n",
              "    </tr>\n",
              "    <tr>\n",
              "      <th>8885</th>\n",
              "      <td>CJC1pycIOA-ocBWawAOXow</td>\n",
              "      <td>Blue Window</td>\n",
              "      <td>False</td>\n",
              "      <td>False</td>\n",
              "      <td>NaN</td>\n",
              "      <td>37</td>\n",
              "      <td>hotdogs</td>\n",
              "      <td>NaN</td>\n",
              "      <td>NaN</td>\n",
              "      <td>1.5</td>\n",
              "      <td>$$</td>\n",
              "      <td>[]</td>\n",
              "      <td>90045.0</td>\n",
              "      <td>Los Angeles</td>\n",
              "      <td>['1 World Way', 'Los Angeles, CA 90045']</td>\n",
              "      <td>https://www.yelp.com/biz/blue-window-los-angel...</td>\n",
              "      <td>https://s3-media1.fl.yelpcdn.com/bphoto/CfEa0u...</td>\n",
              "      <td>33.944968</td>\n",
              "      <td>-118.400957</td>\n",
              "      <td>['https://s3-media1.fl.yelpcdn.com/bphoto/CfEa...</td>\n",
              "    </tr>\n",
              "    <tr>\n",
              "      <th>8813</th>\n",
              "      <td>IeEq0lQZ-ie39KeP91_07g</td>\n",
              "      <td>California Pizza Kitchen</td>\n",
              "      <td>False</td>\n",
              "      <td>False</td>\n",
              "      <td>1.866820e+10</td>\n",
              "      <td>294</td>\n",
              "      <td>pizza</td>\n",
              "      <td>tradamerican</td>\n",
              "      <td>NaN</td>\n",
              "      <td>2.5</td>\n",
              "      <td>$$</td>\n",
              "      <td>[]</td>\n",
              "      <td>90045.0</td>\n",
              "      <td>Los Angeles</td>\n",
              "      <td>['1 World Way', 'Terminal 1', 'Los Angeles, CA...</td>\n",
              "      <td>https://www.yelp.com/biz/california-pizza-kitc...</td>\n",
              "      <td>https://s3-media2.fl.yelpcdn.com/bphoto/LZCIK0...</td>\n",
              "      <td>33.946499</td>\n",
              "      <td>-118.401124</td>\n",
              "      <td>['https://s3-media2.fl.yelpcdn.com/bphoto/LZCI...</td>\n",
              "    </tr>\n",
              "    <tr>\n",
              "      <th>8829</th>\n",
              "      <td>dP6HQtMwyBhKH00nmkBQlw</td>\n",
              "      <td>Cassell's Hamburgers</td>\n",
              "      <td>True</td>\n",
              "      <td>False</td>\n",
              "      <td>NaN</td>\n",
              "      <td>100</td>\n",
              "      <td>burgers</td>\n",
              "      <td>breakfast_brunch</td>\n",
              "      <td>cocktailbars</td>\n",
              "      <td>2.5</td>\n",
              "      <td>$$</td>\n",
              "      <td>[]</td>\n",
              "      <td>90045.0</td>\n",
              "      <td>Los Angeles</td>\n",
              "      <td>['1 World Way', 'Terminal 1', 'Los Angeles, CA...</td>\n",
              "      <td>https://www.yelp.com/biz/cassells-hamburgers-l...</td>\n",
              "      <td>https://s3-media2.fl.yelpcdn.com/bphoto/wMnkHh...</td>\n",
              "      <td>33.946310</td>\n",
              "      <td>-118.401092</td>\n",
              "      <td>['https://s3-media2.fl.yelpcdn.com/bphoto/wMnk...</td>\n",
              "    </tr>\n",
              "  </tbody>\n",
              "</table>\n",
              "</div>"
            ],
            "text/plain": [
              "                          id                                     name  \\\n",
              "8811  O9w_-6yJaOzXqCJf7yt4mA  Rock & Brews - LAX Southwest Terminal 1   \n",
              "8825  MdOKg7Nkw4Tusys0cnSfhQ                            Panda Express   \n",
              "8885  CJC1pycIOA-ocBWawAOXow                              Blue Window   \n",
              "8813  IeEq0lQZ-ie39KeP91_07g                 California Pizza Kitchen   \n",
              "8829  dP6HQtMwyBhKH00nmkBQlw                     Cassell's Hamburgers   \n",
              "\n",
              "      is_claimed  is_closed         phone  review_count categories01  \\\n",
              "8811        True      False  1.424702e+10           771      burgers   \n",
              "8825       False      False  1.424751e+10             3      chinese   \n",
              "8885       False      False           NaN            37      hotdogs   \n",
              "8813       False      False  1.866820e+10           294        pizza   \n",
              "8829        True      False           NaN           100      burgers   \n",
              "\n",
              "          categories02  categories03  rating price transactions  zip_code  \\\n",
              "8811       newamerican       beerbar     3.0    $$           []   90045.0   \n",
              "8825           hotdogs           NaN     3.5   NaN           []   90045.0   \n",
              "8885               NaN           NaN     1.5    $$           []   90045.0   \n",
              "8813      tradamerican           NaN     2.5    $$           []   90045.0   \n",
              "8829  breakfast_brunch  cocktailbars     2.5    $$           []   90045.0   \n",
              "\n",
              "             city                                            address  \\\n",
              "8811  Los Angeles           ['1 World Way', 'Los Angeles, CA 90045']   \n",
              "8825  Los Angeles           ['1 World Way', 'Los Angeles, CA 90045']   \n",
              "8885  Los Angeles           ['1 World Way', 'Los Angeles, CA 90045']   \n",
              "8813  Los Angeles  ['1 World Way', 'Terminal 1', 'Los Angeles, CA...   \n",
              "8829  Los Angeles  ['1 World Way', 'Terminal 1', 'Los Angeles, CA...   \n",
              "\n",
              "                                         restaurant_url  \\\n",
              "8811  https://www.yelp.com/biz/rock-and-brews-lax-so...   \n",
              "8825  https://www.yelp.com/biz/panda-express-los-ang...   \n",
              "8885  https://www.yelp.com/biz/blue-window-los-angel...   \n",
              "8813  https://www.yelp.com/biz/california-pizza-kitc...   \n",
              "8829  https://www.yelp.com/biz/cassells-hamburgers-l...   \n",
              "\n",
              "                                              image_url   latitude  \\\n",
              "8811  https://s3-media2.fl.yelpcdn.com/bphoto/rjxYAA...  33.946526   \n",
              "8825  https://s3-media3.fl.yelpcdn.com/bphoto/YGlSvs...  33.946363   \n",
              "8885  https://s3-media1.fl.yelpcdn.com/bphoto/CfEa0u...  33.944968   \n",
              "8813  https://s3-media2.fl.yelpcdn.com/bphoto/LZCIK0...  33.946499   \n",
              "8829  https://s3-media2.fl.yelpcdn.com/bphoto/wMnkHh...  33.946310   \n",
              "\n",
              "       longitude                                             photos  \n",
              "8811 -118.401190  ['https://s3-media2.fl.yelpcdn.com/bphoto/rjxY...  \n",
              "8825 -118.401084  ['https://s3-media3.fl.yelpcdn.com/bphoto/YGlS...  \n",
              "8885 -118.400957  ['https://s3-media1.fl.yelpcdn.com/bphoto/CfEa...  \n",
              "8813 -118.401124  ['https://s3-media2.fl.yelpcdn.com/bphoto/LZCI...  \n",
              "8829 -118.401092  ['https://s3-media2.fl.yelpcdn.com/bphoto/wMnk...  "
            ]
          },
          "execution_count": 8,
          "metadata": {},
          "output_type": "execute_result"
        }
      ]
    },
    {
      "cell_type": "code",
      "metadata": {
        "id": "11dfa35d",
        "outputId": "4bf2a005-d2c7-47b3-aa35-bb1882871892"
      },
      "source": [
        "# Checks for duplicate longitude and latitude values using groupby\n",
        "gps_indexed = detail_df.groupby(['latitude', 'longitude']).first()\n",
        "gps_indexed[gps_indexed.index.duplicated()]"
      ],
      "id": "11dfa35d",
      "execution_count": null,
      "outputs": [
        {
          "data": {
            "text/html": [
              "<div>\n",
              "<style scoped>\n",
              "    .dataframe tbody tr th:only-of-type {\n",
              "        vertical-align: middle;\n",
              "    }\n",
              "\n",
              "    .dataframe tbody tr th {\n",
              "        vertical-align: top;\n",
              "    }\n",
              "\n",
              "    .dataframe thead th {\n",
              "        text-align: right;\n",
              "    }\n",
              "</style>\n",
              "<table border=\"1\" class=\"dataframe\">\n",
              "  <thead>\n",
              "    <tr style=\"text-align: right;\">\n",
              "      <th></th>\n",
              "      <th></th>\n",
              "      <th>id</th>\n",
              "      <th>name</th>\n",
              "      <th>is_claimed</th>\n",
              "      <th>is_closed</th>\n",
              "      <th>phone</th>\n",
              "      <th>review_count</th>\n",
              "      <th>categories01</th>\n",
              "      <th>categories02</th>\n",
              "      <th>categories03</th>\n",
              "      <th>rating</th>\n",
              "      <th>price</th>\n",
              "      <th>transactions</th>\n",
              "      <th>zip_code</th>\n",
              "      <th>city</th>\n",
              "      <th>address</th>\n",
              "      <th>restaurant_url</th>\n",
              "      <th>image_url</th>\n",
              "      <th>photos</th>\n",
              "    </tr>\n",
              "    <tr>\n",
              "      <th>latitude</th>\n",
              "      <th>longitude</th>\n",
              "      <th></th>\n",
              "      <th></th>\n",
              "      <th></th>\n",
              "      <th></th>\n",
              "      <th></th>\n",
              "      <th></th>\n",
              "      <th></th>\n",
              "      <th></th>\n",
              "      <th></th>\n",
              "      <th></th>\n",
              "      <th></th>\n",
              "      <th></th>\n",
              "      <th></th>\n",
              "      <th></th>\n",
              "      <th></th>\n",
              "      <th></th>\n",
              "      <th></th>\n",
              "      <th></th>\n",
              "    </tr>\n",
              "  </thead>\n",
              "  <tbody>\n",
              "  </tbody>\n",
              "</table>\n",
              "</div>"
            ],
            "text/plain": [
              "Empty DataFrame\n",
              "Columns: [id, name, is_claimed, is_closed, phone, review_count, categories01, categories02, categories03, rating, price, transactions, zip_code, city, address, restaurant_url, image_url, photos]\n",
              "Index: []"
            ]
          },
          "execution_count": 9,
          "metadata": {},
          "output_type": "execute_result"
        }
      ]
    },
    {
      "cell_type": "code",
      "metadata": {
        "id": "8d3ef4e2"
      },
      "source": [
        "# Display unique values of select columns (commented out for brevity)\n",
        "\n",
        "#for col in ['is_claimed', 'is_closed', 'review_count', 'categories01', 'categories02', 'categories03', 'rating', 'price', 'transactions', 'city', 'cross_streets']:\n",
        "#    print(col + ':')\n",
        "#    print(detail_df[col].unique())\n",
        "#    print()"
      ],
      "id": "8d3ef4e2",
      "execution_count": null,
      "outputs": []
    },
    {
      "cell_type": "code",
      "metadata": {
        "id": "bfc0e3c0",
        "outputId": "d492da65-9196-484a-98a5-21d7988ec57c"
      },
      "source": [
        "print(detail_df['categories01'].unique()[:10])"
      ],
      "id": "bfc0e3c0",
      "execution_count": null,
      "outputs": [
        {
          "name": "stdout",
          "output_type": "stream",
          "text": [
            "['breakfast_brunch' 'bars' 'salvadoran' 'sandwiches' 'pizza' 'tacos'\n",
            " 'chinese' 'burgers' 'foodtrucks' 'hotdogs']\n"
          ]
        }
      ]
    },
    {
      "cell_type": "code",
      "metadata": {
        "id": "0ab2efd5"
      },
      "source": [
        "# \n",
        "def clean_categories01(category):\n",
        "    if category in ['bars', 'beer_and_wine', 'wine_bars', 'cocktailbars', 'beerbar', 'brewpubs', \\\n",
        "                    'speakeasies', 'gaybars', 'beergardens', 'distilleries', 'winetastingroom', 'irish_pubs']:\n",
        "        return 'alchoholic beverages'\n",
        "    else:\n",
        "        return category\n",
        "    #if category in ['']"
      ],
      "id": "0ab2efd5",
      "execution_count": null,
      "outputs": []
    },
    {
      "cell_type": "code",
      "metadata": {
        "id": "9a0f2f2d"
      },
      "source": [
        "detail_df['categories01'] = detail_df['categories01'].apply(clean_categories01)"
      ],
      "id": "9a0f2f2d",
      "execution_count": null,
      "outputs": []
    },
    {
      "cell_type": "code",
      "metadata": {
        "id": "ad94b339"
      },
      "source": [
        "# Aggregates the different categories into a new features of type: list\n",
        "detail_df['categories'] = detail_df[['categories01', 'categories02', 'categories03']].values.tolist()"
      ],
      "id": "ad94b339",
      "execution_count": null,
      "outputs": []
    },
    {
      "cell_type": "code",
      "metadata": {
        "id": "f12934f0"
      },
      "source": [
        "from ast import literal_eval"
      ],
      "id": "f12934f0",
      "execution_count": null,
      "outputs": []
    },
    {
      "cell_type": "code",
      "metadata": {
        "id": "95cb6ef7"
      },
      "source": [
        "# Convert transactions string value to list\n",
        "detail_df['transactions'] = detail_df['transactions'].apply(literal_eval)"
      ],
      "id": "95cb6ef7",
      "execution_count": null,
      "outputs": []
    },
    {
      "cell_type": "code",
      "metadata": {
        "id": "26578ba9",
        "outputId": "827953aa-2119-47bf-8692-ea587943d360"
      },
      "source": [
        "detail_df['transactions']"
      ],
      "id": "26578ba9",
      "execution_count": null,
      "outputs": [
        {
          "data": {
            "text/plain": [
              "0                        []\n",
              "1                        []\n",
              "2                        []\n",
              "3        [delivery, pickup]\n",
              "4                        []\n",
              "                ...        \n",
              "10705    [delivery, pickup]\n",
              "10706                    []\n",
              "10707            [delivery]\n",
              "10708    [delivery, pickup]\n",
              "10709                    []\n",
              "Name: transactions, Length: 10710, dtype: object"
            ]
          },
          "execution_count": 17,
          "metadata": {},
          "output_type": "execute_result"
        }
      ]
    },
    {
      "cell_type": "code",
      "metadata": {
        "id": "d8e2f90c"
      },
      "source": [
        "# Set transactions with empty list (assumed to be physical) to a new df and transactions with populated list to a different df\n",
        "physical = detail_df[detail_df.transactions.str.len().eq(0)]\n",
        "non_physical = detail_df[~detail_df.transactions.str.len().eq(0)]"
      ],
      "id": "d8e2f90c",
      "execution_count": null,
      "outputs": []
    },
    {
      "cell_type": "code",
      "metadata": {
        "id": "a4f25c5d",
        "outputId": "0724d87e-fb15-42c7-bb6e-fe1f9d7d2a85"
      },
      "source": [
        "# Show top 10 most reviewed categories for physical restaurants\n",
        "physical[['categories01', 'review_count']].groupby('categories01').sum().sort_values('review_count', ascending=False)[:10]"
      ],
      "id": "a4f25c5d",
      "execution_count": null,
      "outputs": [
        {
          "data": {
            "text/html": [
              "<div>\n",
              "<style scoped>\n",
              "    .dataframe tbody tr th:only-of-type {\n",
              "        vertical-align: middle;\n",
              "    }\n",
              "\n",
              "    .dataframe tbody tr th {\n",
              "        vertical-align: top;\n",
              "    }\n",
              "\n",
              "    .dataframe thead th {\n",
              "        text-align: right;\n",
              "    }\n",
              "</style>\n",
              "<table border=\"1\" class=\"dataframe\">\n",
              "  <thead>\n",
              "    <tr style=\"text-align: right;\">\n",
              "      <th></th>\n",
              "      <th>review_count</th>\n",
              "    </tr>\n",
              "    <tr>\n",
              "      <th>categories01</th>\n",
              "      <th></th>\n",
              "    </tr>\n",
              "  </thead>\n",
              "  <tbody>\n",
              "    <tr>\n",
              "      <th>korean</th>\n",
              "      <td>19966</td>\n",
              "    </tr>\n",
              "    <tr>\n",
              "      <th>mexican</th>\n",
              "      <td>15531</td>\n",
              "    </tr>\n",
              "    <tr>\n",
              "      <th>steak</th>\n",
              "      <td>14292</td>\n",
              "    </tr>\n",
              "    <tr>\n",
              "      <th>newamerican</th>\n",
              "      <td>13917</td>\n",
              "    </tr>\n",
              "    <tr>\n",
              "      <th>seafood</th>\n",
              "      <td>12715</td>\n",
              "    </tr>\n",
              "    <tr>\n",
              "      <th>burgers</th>\n",
              "      <td>11492</td>\n",
              "    </tr>\n",
              "    <tr>\n",
              "      <th>alchoholic beverages</th>\n",
              "      <td>11183</td>\n",
              "    </tr>\n",
              "    <tr>\n",
              "      <th>bakeries</th>\n",
              "      <td>10685</td>\n",
              "    </tr>\n",
              "    <tr>\n",
              "      <th>pizza</th>\n",
              "      <td>10590</td>\n",
              "    </tr>\n",
              "    <tr>\n",
              "      <th>foodtrucks</th>\n",
              "      <td>9205</td>\n",
              "    </tr>\n",
              "  </tbody>\n",
              "</table>\n",
              "</div>"
            ],
            "text/plain": [
              "                      review_count\n",
              "categories01                      \n",
              "korean                       19966\n",
              "mexican                      15531\n",
              "steak                        14292\n",
              "newamerican                  13917\n",
              "seafood                      12715\n",
              "burgers                      11492\n",
              "alchoholic beverages         11183\n",
              "bakeries                     10685\n",
              "pizza                        10590\n",
              "foodtrucks                    9205"
            ]
          },
          "execution_count": 19,
          "metadata": {},
          "output_type": "execute_result"
        }
      ]
    },
    {
      "cell_type": "code",
      "metadata": {
        "id": "f0e8009a",
        "outputId": "f87019dd-7e03-48a9-d44e-76b2d0223d0e"
      },
      "source": [
        "# Show top 10 most reviewed categories for non-physical restaurants\n",
        "non_physical[['categories01', 'review_count']].groupby('categories01').sum().sort_values('review_count', ascending=False)[:10]"
      ],
      "id": "f0e8009a",
      "execution_count": null,
      "outputs": [
        {
          "data": {
            "text/html": [
              "<div>\n",
              "<style scoped>\n",
              "    .dataframe tbody tr th:only-of-type {\n",
              "        vertical-align: middle;\n",
              "    }\n",
              "\n",
              "    .dataframe tbody tr th {\n",
              "        vertical-align: top;\n",
              "    }\n",
              "\n",
              "    .dataframe thead th {\n",
              "        text-align: right;\n",
              "    }\n",
              "</style>\n",
              "<table border=\"1\" class=\"dataframe\">\n",
              "  <thead>\n",
              "    <tr style=\"text-align: right;\">\n",
              "      <th></th>\n",
              "      <th>review_count</th>\n",
              "    </tr>\n",
              "    <tr>\n",
              "      <th>categories01</th>\n",
              "      <th></th>\n",
              "    </tr>\n",
              "  </thead>\n",
              "  <tbody>\n",
              "    <tr>\n",
              "      <th>mexican</th>\n",
              "      <td>201524</td>\n",
              "    </tr>\n",
              "    <tr>\n",
              "      <th>newamerican</th>\n",
              "      <td>163360</td>\n",
              "    </tr>\n",
              "    <tr>\n",
              "      <th>sushi</th>\n",
              "      <td>140113</td>\n",
              "    </tr>\n",
              "    <tr>\n",
              "      <th>korean</th>\n",
              "      <td>139912</td>\n",
              "    </tr>\n",
              "    <tr>\n",
              "      <th>japanese</th>\n",
              "      <td>120714</td>\n",
              "    </tr>\n",
              "    <tr>\n",
              "      <th>pizza</th>\n",
              "      <td>115398</td>\n",
              "    </tr>\n",
              "    <tr>\n",
              "      <th>italian</th>\n",
              "      <td>112978</td>\n",
              "    </tr>\n",
              "    <tr>\n",
              "      <th>burgers</th>\n",
              "      <td>95279</td>\n",
              "    </tr>\n",
              "    <tr>\n",
              "      <th>chinese</th>\n",
              "      <td>94883</td>\n",
              "    </tr>\n",
              "    <tr>\n",
              "      <th>ramen</th>\n",
              "      <td>81655</td>\n",
              "    </tr>\n",
              "  </tbody>\n",
              "</table>\n",
              "</div>"
            ],
            "text/plain": [
              "              review_count\n",
              "categories01              \n",
              "mexican             201524\n",
              "newamerican         163360\n",
              "sushi               140113\n",
              "korean              139912\n",
              "japanese            120714\n",
              "pizza               115398\n",
              "italian             112978\n",
              "burgers              95279\n",
              "chinese              94883\n",
              "ramen                81655"
            ]
          },
          "execution_count": 20,
          "metadata": {},
          "output_type": "execute_result"
        }
      ]
    },
    {
      "cell_type": "code",
      "metadata": {
        "id": "aa1aa53b"
      },
      "source": [
        "physical_review_counts = physical[['categories01', 'review_count']].groupby('categories01').sum()\n",
        "physical_review_props = physical_review_counts / physical_review_counts['review_count'].sum()\n",
        "physical_review_props = physical_review_props.rename(columns={'review_count': 'review_prop'})"
      ],
      "id": "aa1aa53b",
      "execution_count": null,
      "outputs": []
    },
    {
      "cell_type": "code",
      "metadata": {
        "id": "802979fc"
      },
      "source": [
        "non_physical_review_counts = non_physical[['categories01', 'review_count']].groupby('categories01').sum()\n",
        "non_physical_review_props = non_physical_review_counts / non_physical_review_counts['review_count'].sum()\n",
        "non_physical_review_props = non_physical_review_props.rename(columns={'review_count': 'review_prop'})"
      ],
      "id": "802979fc",
      "execution_count": null,
      "outputs": []
    },
    {
      "cell_type": "code",
      "metadata": {
        "id": "05ff9edb"
      },
      "source": [
        "review_differences = physical_review_props.merge(non_physical_review_props, how='outer', left_index=True, right_index=True)"
      ],
      "id": "05ff9edb",
      "execution_count": null,
      "outputs": []
    },
    {
      "cell_type": "code",
      "metadata": {
        "id": "96f9b2ee",
        "outputId": "14a9d016-eb49-4c6e-902a-1f1b3671637a"
      },
      "source": [
        "review_differences = review_differences.fillna(0)\n",
        "review_differences['difference'] = abs(review_differences['review_prop_x'] - review_differences['review_prop_y'])\n",
        "review_differences.sort_values('difference', ascending=False)[:10]"
      ],
      "id": "96f9b2ee",
      "execution_count": null,
      "outputs": [
        {
          "data": {
            "text/html": [
              "<div>\n",
              "<style scoped>\n",
              "    .dataframe tbody tr th:only-of-type {\n",
              "        vertical-align: middle;\n",
              "    }\n",
              "\n",
              "    .dataframe tbody tr th {\n",
              "        vertical-align: top;\n",
              "    }\n",
              "\n",
              "    .dataframe thead th {\n",
              "        text-align: right;\n",
              "    }\n",
              "</style>\n",
              "<table border=\"1\" class=\"dataframe\">\n",
              "  <thead>\n",
              "    <tr style=\"text-align: right;\">\n",
              "      <th></th>\n",
              "      <th>review_prop_x</th>\n",
              "      <th>review_prop_y</th>\n",
              "      <th>difference</th>\n",
              "    </tr>\n",
              "    <tr>\n",
              "      <th>categories01</th>\n",
              "      <th></th>\n",
              "      <th></th>\n",
              "      <th></th>\n",
              "    </tr>\n",
              "  </thead>\n",
              "  <tbody>\n",
              "    <tr>\n",
              "      <th>steak</th>\n",
              "      <td>0.055477</td>\n",
              "      <td>0.012206</td>\n",
              "      <td>0.043271</td>\n",
              "    </tr>\n",
              "    <tr>\n",
              "      <th>sushi</th>\n",
              "      <td>0.012309</td>\n",
              "      <td>0.052545</td>\n",
              "      <td>0.040237</td>\n",
              "    </tr>\n",
              "    <tr>\n",
              "      <th>foodtrucks</th>\n",
              "      <td>0.035731</td>\n",
              "      <td>0.002245</td>\n",
              "      <td>0.033487</td>\n",
              "    </tr>\n",
              "    <tr>\n",
              "      <th>bakeries</th>\n",
              "      <td>0.041476</td>\n",
              "      <td>0.013137</td>\n",
              "      <td>0.028339</td>\n",
              "    </tr>\n",
              "    <tr>\n",
              "      <th>ramen</th>\n",
              "      <td>0.004844</td>\n",
              "      <td>0.030622</td>\n",
              "      <td>0.025778</td>\n",
              "    </tr>\n",
              "    <tr>\n",
              "      <th>korean</th>\n",
              "      <td>0.077502</td>\n",
              "      <td>0.052470</td>\n",
              "      <td>0.025032</td>\n",
              "    </tr>\n",
              "    <tr>\n",
              "      <th>alchoholic beverages</th>\n",
              "      <td>0.043409</td>\n",
              "      <td>0.020700</td>\n",
              "      <td>0.022709</td>\n",
              "    </tr>\n",
              "    <tr>\n",
              "      <th>chicken_wings</th>\n",
              "      <td>0.030386</td>\n",
              "      <td>0.008718</td>\n",
              "      <td>0.021668</td>\n",
              "    </tr>\n",
              "    <tr>\n",
              "      <th>seafood</th>\n",
              "      <td>0.049356</td>\n",
              "      <td>0.028229</td>\n",
              "      <td>0.021126</td>\n",
              "    </tr>\n",
              "    <tr>\n",
              "      <th>buffets</th>\n",
              "      <td>0.018275</td>\n",
              "      <td>0.000442</td>\n",
              "      <td>0.017833</td>\n",
              "    </tr>\n",
              "  </tbody>\n",
              "</table>\n",
              "</div>"
            ],
            "text/plain": [
              "                      review_prop_x  review_prop_y  difference\n",
              "categories01                                                  \n",
              "steak                      0.055477       0.012206    0.043271\n",
              "sushi                      0.012309       0.052545    0.040237\n",
              "foodtrucks                 0.035731       0.002245    0.033487\n",
              "bakeries                   0.041476       0.013137    0.028339\n",
              "ramen                      0.004844       0.030622    0.025778\n",
              "korean                     0.077502       0.052470    0.025032\n",
              "alchoholic beverages       0.043409       0.020700    0.022709\n",
              "chicken_wings              0.030386       0.008718    0.021668\n",
              "seafood                    0.049356       0.028229    0.021126\n",
              "buffets                    0.018275       0.000442    0.017833"
            ]
          },
          "execution_count": 24,
          "metadata": {},
          "output_type": "execute_result"
        }
      ]
    },
    {
      "cell_type": "code",
      "metadata": {
        "id": "507182dc"
      },
      "source": [
        "review_df = pd.read_excel('competition_data/Q3_competition_review_dataset.xlsx')"
      ],
      "id": "507182dc",
      "execution_count": null,
      "outputs": []
    },
    {
      "cell_type": "code",
      "metadata": {
        "id": "4c1f9a65",
        "outputId": "d3eeb4e0-2301-4b4a-ef5b-e57488b9cd91"
      },
      "source": [
        "# https://www.iflexion.com/blog/sentiment-analysis-python\n",
        "review_df.head()"
      ],
      "id": "4c1f9a65",
      "execution_count": null,
      "outputs": [
        {
          "data": {
            "text/html": [
              "<div>\n",
              "<style scoped>\n",
              "    .dataframe tbody tr th:only-of-type {\n",
              "        vertical-align: middle;\n",
              "    }\n",
              "\n",
              "    .dataframe tbody tr th {\n",
              "        vertical-align: top;\n",
              "    }\n",
              "\n",
              "    .dataframe thead th {\n",
              "        text-align: right;\n",
              "    }\n",
              "</style>\n",
              "<table border=\"1\" class=\"dataframe\">\n",
              "  <thead>\n",
              "    <tr style=\"text-align: right;\">\n",
              "      <th></th>\n",
              "      <th>id</th>\n",
              "      <th>review_id</th>\n",
              "      <th>review_text</th>\n",
              "      <th>review_rating</th>\n",
              "      <th>review_time_created</th>\n",
              "    </tr>\n",
              "  </thead>\n",
              "  <tbody>\n",
              "    <tr>\n",
              "      <th>0</th>\n",
              "      <td>cal0Wpupxj9c_AV7WzDXsw</td>\n",
              "      <td>AyueC5Vq_5lUKJFqSzXWWw</td>\n",
              "      <td>Slightly turned off by the hostess. She wasn't...</td>\n",
              "      <td>3.0</td>\n",
              "      <td>2021-07-13 15:01:59</td>\n",
              "    </tr>\n",
              "    <tr>\n",
              "      <th>1</th>\n",
              "      <td>cal0Wpupxj9c_AV7WzDXsw</td>\n",
              "      <td>yaH4AmHUz9b3Ywv4VtvU5g</td>\n",
              "      <td>Wish I would have known about no brunch at the...</td>\n",
              "      <td>3.0</td>\n",
              "      <td>2021-07-06 13:50:42</td>\n",
              "    </tr>\n",
              "    <tr>\n",
              "      <th>2</th>\n",
              "      <td>cal0Wpupxj9c_AV7WzDXsw</td>\n",
              "      <td>YiuFLFWsrP92_QWa-d2W2Q</td>\n",
              "      <td>I had an amazing experience at Granville.\\n\\nw...</td>\n",
              "      <td>5.0</td>\n",
              "      <td>2021-08-09 21:06:24</td>\n",
              "    </tr>\n",
              "    <tr>\n",
              "      <th>3</th>\n",
              "      <td>jVYU9iXvBMiC2A4H12Azfg</td>\n",
              "      <td>VyKvwjOuJxKWiLlyzsqQ_A</td>\n",
              "      <td>Photo dump from dinner on Aug 8th. Literally c...</td>\n",
              "      <td>5.0</td>\n",
              "      <td>2021-08-09 13:01:09</td>\n",
              "    </tr>\n",
              "    <tr>\n",
              "      <th>4</th>\n",
              "      <td>jVYU9iXvBMiC2A4H12Azfg</td>\n",
              "      <td>D0-MjyINO2u9IRmf1opaUQ</td>\n",
              "      <td>I've had this place bookmarked on my Yelp for ...</td>\n",
              "      <td>2.0</td>\n",
              "      <td>2021-07-17 16:28:47</td>\n",
              "    </tr>\n",
              "  </tbody>\n",
              "</table>\n",
              "</div>"
            ],
            "text/plain": [
              "                       id               review_id  \\\n",
              "0  cal0Wpupxj9c_AV7WzDXsw  AyueC5Vq_5lUKJFqSzXWWw   \n",
              "1  cal0Wpupxj9c_AV7WzDXsw  yaH4AmHUz9b3Ywv4VtvU5g   \n",
              "2  cal0Wpupxj9c_AV7WzDXsw  YiuFLFWsrP92_QWa-d2W2Q   \n",
              "3  jVYU9iXvBMiC2A4H12Azfg  VyKvwjOuJxKWiLlyzsqQ_A   \n",
              "4  jVYU9iXvBMiC2A4H12Azfg  D0-MjyINO2u9IRmf1opaUQ   \n",
              "\n",
              "                                         review_text  review_rating  \\\n",
              "0  Slightly turned off by the hostess. She wasn't...            3.0   \n",
              "1  Wish I would have known about no brunch at the...            3.0   \n",
              "2  I had an amazing experience at Granville.\\n\\nw...            5.0   \n",
              "3  Photo dump from dinner on Aug 8th. Literally c...            5.0   \n",
              "4  I've had this place bookmarked on my Yelp for ...            2.0   \n",
              "\n",
              "   review_time_created  \n",
              "0  2021-07-13 15:01:59  \n",
              "1  2021-07-06 13:50:42  \n",
              "2  2021-08-09 21:06:24  \n",
              "3  2021-08-09 13:01:09  \n",
              "4  2021-07-17 16:28:47  "
            ]
          },
          "execution_count": 26,
          "metadata": {},
          "output_type": "execute_result"
        }
      ]
    },
    {
      "cell_type": "code",
      "metadata": {
        "id": "152a1560"
      },
      "source": [
        "detail_review = detail_df.merge(review_df, how='outer', left_on='id', right_on='id')"
      ],
      "id": "152a1560",
      "execution_count": null,
      "outputs": []
    },
    {
      "cell_type": "code",
      "metadata": {
        "id": "5f97c9f3"
      },
      "source": [
        "detail_review = detail_review[detail_review['name'].notna()]"
      ],
      "id": "5f97c9f3",
      "execution_count": null,
      "outputs": []
    },
    {
      "cell_type": "code",
      "metadata": {
        "id": "97089354"
      },
      "source": [
        "import nltk\n",
        "# nltk.download()\n",
        "# Uncomment to download nltk packages"
      ],
      "id": "97089354",
      "execution_count": null,
      "outputs": []
    },
    {
      "cell_type": "code",
      "metadata": {
        "id": "aafb657c"
      },
      "source": [
        "from nltk.sentiment import SentimentIntensityAnalyzer"
      ],
      "id": "aafb657c",
      "execution_count": null,
      "outputs": []
    },
    {
      "cell_type": "code",
      "metadata": {
        "id": "7f31dd2b"
      },
      "source": [
        "sia = SentimentIntensityAnalyzer()"
      ],
      "id": "7f31dd2b",
      "execution_count": null,
      "outputs": []
    },
    {
      "cell_type": "code",
      "metadata": {
        "id": "25e1a3c7"
      },
      "source": [
        "def analyze_sentiment(review):\n",
        "\n",
        "    if type(review) != str:\n",
        "        return review\n",
        "    \n",
        "    score = sia.polarity_scores(review)['compound']\n",
        "    if score >= 0.05:\n",
        "        return 'positive'\n",
        "    elif score >= -0.05:\n",
        "        return 'neutral'\n",
        "    else:\n",
        "        return 'negative'"
      ],
      "id": "25e1a3c7",
      "execution_count": null,
      "outputs": []
    },
    {
      "cell_type": "code",
      "metadata": {
        "id": "d0763696"
      },
      "source": [
        "detail_review['sentiment'] = detail_review['review_text'].apply(analyze_sentiment)"
      ],
      "id": "d0763696",
      "execution_count": null,
      "outputs": []
    },
    {
      "cell_type": "code",
      "metadata": {
        "id": "d1cfa944"
      },
      "source": [
        "detail_review = detail_review.drop(detail_review[detail_review['review_text'] == 0].index)"
      ],
      "id": "d1cfa944",
      "execution_count": null,
      "outputs": []
    },
    {
      "cell_type": "code",
      "metadata": {
        "id": "a06f1f78",
        "outputId": "94b75cf7-9e82-40fb-9e5f-0eabe0210a8f"
      },
      "source": [
        "detail_review['review_rating'].value_counts()"
      ],
      "id": "a06f1f78",
      "execution_count": null,
      "outputs": [
        {
          "data": {
            "text/plain": [
              "5.0    14549\n",
              "1.0     6165\n",
              "4.0     5017\n",
              "3.0     2747\n",
              "2.0     2200\n",
              "Name: review_rating, dtype: int64"
            ]
          },
          "execution_count": 35,
          "metadata": {},
          "output_type": "execute_result"
        }
      ]
    },
    {
      "cell_type": "code",
      "metadata": {
        "id": "07b8d50b"
      },
      "source": [
        "detail_review = detail_review[detail_review['sentiment'].notna()]"
      ],
      "id": "07b8d50b",
      "execution_count": null,
      "outputs": []
    },
    {
      "cell_type": "markdown",
      "metadata": {
        "id": "ea641eba"
      },
      "source": [
        "### What type of restaurants would customers prefer? (pick-up/delivery, dine-in)"
      ],
      "id": "ea641eba"
    },
    {
      "cell_type": "code",
      "metadata": {
        "id": "40eee27c"
      },
      "source": [
        "# Set transactions with empty list (assumed to be physical) to a new df and transactions with populated list to a different df\n",
        "physical = detail_review[detail_review.transactions.str.len().eq(0)]\n",
        "non_physical = detail_review[~detail_review.transactions.str.len().eq(0)]"
      ],
      "id": "40eee27c",
      "execution_count": null,
      "outputs": []
    },
    {
      "cell_type": "code",
      "metadata": {
        "id": "34d58d67",
        "outputId": "14191ee7-5bfc-4745-f941-e63ffb2cf3a4"
      },
      "source": [
        "# Show top 10 most reviewed categories for physical restaurants\n",
        "physical['sentiment'].value_counts() / physical.shape[0]"
      ],
      "id": "34d58d67",
      "execution_count": null,
      "outputs": [
        {
          "data": {
            "text/plain": [
              "positive    0.687068\n",
              "negative    0.198909\n",
              "neutral     0.114023\n",
              "Name: sentiment, dtype: float64"
            ]
          },
          "execution_count": 38,
          "metadata": {},
          "output_type": "execute_result"
        }
      ]
    },
    {
      "cell_type": "code",
      "metadata": {
        "id": "eb88b1ee",
        "outputId": "2cfaf6ed-b4b2-4221-e2b8-dde9c898a059"
      },
      "source": [
        "# Show top 10 most reviewed categories for non physical restaurants\n",
        "non_physical['sentiment'].value_counts() / non_physical.shape[0]"
      ],
      "id": "eb88b1ee",
      "execution_count": null,
      "outputs": [
        {
          "data": {
            "text/plain": [
              "positive    0.685001\n",
              "negative    0.207193\n",
              "neutral     0.107806\n",
              "Name: sentiment, dtype: float64"
            ]
          },
          "execution_count": 39,
          "metadata": {},
          "output_type": "execute_result"
        }
      ]
    },
    {
      "cell_type": "code",
      "metadata": {
        "id": "c8f9481a",
        "outputId": "aa831a25-823b-447d-9cda-8220adbbebe0"
      },
      "source": [
        "physical['review_rating'].value_counts() / physical.shape[0]"
      ],
      "id": "c8f9481a",
      "execution_count": null,
      "outputs": [
        {
          "data": {
            "text/plain": [
              "5.0    0.492283\n",
              "1.0    0.181613\n",
              "4.0    0.164050\n",
              "3.0    0.091006\n",
              "2.0    0.071048\n",
              "Name: review_rating, dtype: float64"
            ]
          },
          "execution_count": 40,
          "metadata": {},
          "output_type": "execute_result"
        }
      ]
    },
    {
      "cell_type": "code",
      "metadata": {
        "id": "9f24057d",
        "outputId": "928a7865-5457-4531-d842-11e95b7059f3"
      },
      "source": [
        "non_physical['review_rating'].value_counts() / non_physical.shape[0]"
      ],
      "id": "9f24057d",
      "execution_count": null,
      "outputs": [
        {
          "data": {
            "text/plain": [
              "5.0    0.468397\n",
              "1.0    0.207236\n",
              "4.0    0.163371\n",
              "3.0    0.089068\n",
              "2.0    0.071928\n",
              "Name: review_rating, dtype: float64"
            ]
          },
          "execution_count": 41,
          "metadata": {},
          "output_type": "execute_result"
        }
      ]
    },
    {
      "cell_type": "code",
      "metadata": {
        "id": "83992d48",
        "outputId": "1e5c557a-93e7-4c28-88fc-43fb63510912"
      },
      "source": [
        "detail_review['id'].value_counts().sort_values(ascending=False)"
      ],
      "id": "83992d48",
      "execution_count": null,
      "outputs": [
        {
          "data": {
            "text/plain": [
              "1JYtqWdJobz4sxH8ZJ4ATA    3\n",
              "2iPhFzexAGdGJ4nxNfTwsg    3\n",
              "MwMSPROnVTYIOMLtXQcKyw    3\n",
              "hUZDpWXUkw165KAk-uv5FA    3\n",
              "b3RA0GzMbYBIw2XNzfO61g    3\n",
              "                         ..\n",
              "0AGOu8aj_8jETZiRUZQqJA    1\n",
              "CY__M33tRLVc3fWz2j4H0g    1\n",
              "vzkPyE0dYFFhuPt_XUxIjw    1\n",
              "oJOE91-sbTDsEpwR_zQ7kw    1\n",
              "GyCSgqmeChtpU8seMdkK2A    1\n",
              "Name: id, Length: 10696, dtype: int64"
            ]
          },
          "execution_count": 42,
          "metadata": {},
          "output_type": "execute_result"
        }
      ]
    },
    {
      "cell_type": "code",
      "metadata": {
        "id": "be1c441b",
        "outputId": "c3fd6bb5-c618-4d26-f3f9-0b90574c3401"
      },
      "source": [
        "physical['id'].value_counts().sum()"
      ],
      "id": "be1c441b",
      "execution_count": null,
      "outputs": [
        {
          "data": {
            "text/plain": [
              "7516"
            ]
          },
          "execution_count": 43,
          "metadata": {},
          "output_type": "execute_result"
        }
      ]
    },
    {
      "cell_type": "code",
      "metadata": {
        "id": "e8acfe37"
      },
      "source": [
        ""
      ],
      "id": "e8acfe37",
      "execution_count": null,
      "outputs": []
    }
  ]
}